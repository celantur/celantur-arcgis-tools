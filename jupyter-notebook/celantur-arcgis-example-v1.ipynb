{
 "cells": [
  {
   "cell_type": "markdown",
   "id": "6323dcd641a4769b",
   "metadata": {
    "collapsed": false
   },
   "source": [
    "## ArcGIS and Celantur Fusion POC"
   ]
  },
  {
   "cell_type": "markdown",
   "id": "8255de57ce9b7a2a",
   "metadata": {
    "collapsed": false
   },
   "source": [
    "#### ! CREDENTIALS !"
   ]
  },
  {
   "cell_type": "code",
   "execution_count": null,
   "id": "initial_id",
   "metadata": {
    "collapsed": false
   },
   "outputs": [],
   "source": [
    "username = \"****@celantur.com\"\n",
    "password = \"****\""
   ]
  },
  {
   "cell_type": "markdown",
   "id": "8e64349e869589a8",
   "metadata": {
    "collapsed": false
   },
   "source": [
    "#### Celantur Preparation"
   ]
  },
  {
   "cell_type": "code",
   "execution_count": null,
   "id": "676d8f21cd04b01f",
   "metadata": {
    "collapsed": false
   },
   "outputs": [],
   "source": [
    "\n",
    "from os.path import basename\n",
    "from time import sleep\n",
    "import tempfile\n",
    "import requests\n",
    "\n",
    "\n",
    "host = \"https://api.celantur.com/v2\"\n",
    "\n",
    "\n",
    "def celantur_connect(username: str, password: str) -> dict:\n",
    "    payload = {\n",
    "        \"username\": username,\n",
    "        \"password\": password,\n",
    "    }\n",
    "    response = requests.post(f\"{host}/signin\", json=payload)\n",
    "    token = response.json()[\"AccessToken\"]\n",
    "    return {\"Authorization\": token}\n",
    "\n",
    "\n",
    "def celantur_anonymize_start(headers: dict, params: dict, *files) -> dict:\n",
    "    res = {}\n",
    "    for file in files:\n",
    "        response = requests.post(f\"{host}/task\", json=params, headers=headers)\n",
    "        result = response.json()\n",
    "        task_id = result[\"task_id\"]\n",
    "        upload_url = result[\"upload_url\"]\n",
    "        with open(file, \"rb\") as fd:\n",
    "            file_content = fd.read()\n",
    "        requests.put(upload_url, data=file_content)\n",
    "        res[task_id] = file\n",
    "\n",
    "    return res\n",
    "\n",
    "\n",
    "def celantur_anonymize_finish(headers: dict, tasks: dict, store_folder: str):\n",
    "    anon_files = {}\n",
    "    for tid, file in tasks.items():\n",
    "        keep_checking = True\n",
    "        result = None\n",
    "        while keep_checking:\n",
    "            response = requests.get(f\"{host}/task/{tid}/status\", headers=headers)\n",
    "            result = response.json()\n",
    "            if result[\"task_status\"] == \"done\":\n",
    "                keep_checking = False\n",
    "            else:\n",
    "                print(\"Waiting 5 seconds (polling)...\")\n",
    "                sleep(5)\n",
    "\n",
    "        file_name = basename(file)\n",
    "        response = requests.get(result[\"anonymized_url\"])\n",
    "        final_name = f\"{store_folder}/anon-{file_name}\"\n",
    "        with open(final_name, \"wb\") as fd:\n",
    "            fd.write(response.content)\n",
    "        anon_files[\"tid\"] = final_name\n",
    "\n",
    "    return anon_files\n",
    "\n",
    "\n",
    "def celantur_process_layer(layer_id, params):\n",
    "    print(\"Processing started...\")\n",
    "\n",
    "    supported_content_types = (\"image/jpeg\", \"image/png\")\n",
    "    feature_flag_name = \"is_anonymized\"\n",
    "\n",
    "    layer = gis.content.get(layer_id).layers[0]\n",
    "\n",
    "    available_attachments = layer.attachments.search()\n",
    "\n",
    "    for attachment_object in available_attachments:\n",
    "\n",
    "        featureset_id = attachment_object[\"PARENTOBJECTID\"]\n",
    "        attachment_content_type = attachment_object[\"CONTENTTYPE\"]\n",
    "\n",
    "        if attachment_content_type in supported_content_types:\n",
    "            featureset = layer.query(where=f\"OBJECTID={featureset_id}\")\n",
    "\n",
    "            if not featureset:\n",
    "                continue\n",
    "\n",
    "            all_features = featureset.features\n",
    "            feature = all_features[0]\n",
    "\n",
    "            is_anonymized = feature.attributes[feature_flag_name]\n",
    "\n",
    "            if not is_anonymized:\n",
    "                print(f\"Anonymizing {attachment_object}\\n\")\n",
    "                local_path = layer.attachments.download(oid=featureset_id, attachment_id=attachment_object[\"ID\"])\n",
    "                local_path = local_path[0]\n",
    "\n",
    "                headers = celantur_connect(username, password)\n",
    "                tasks = celantur_anonymize_start(headers, params, local_path)\n",
    "                anon_files = celantur_anonymize_finish(headers, tasks, tempfile.gettempdir())\n",
    "\n",
    "                for anon_file in anon_files.values():\n",
    "                    layer.attachments.add(featureset_id, anon_file)\n",
    "                    feature.attributes[feature_flag_name] = True\n",
    "                    layer.edit_features(updates=[feature])\n",
    "            else:\n",
    "                print(f\"Skipping (already anonymized) {attachment_object}\\n\")\n",
    "        else:\n",
    "            print(f\"Skipping (non-image) {attachment_object}\\n\")\n",
    "\n",
    "    print(\"Processing Finished!\")\n"
   ]
  },
  {
   "cell_type": "markdown",
   "id": "9afa62c50c5c56d6",
   "metadata": {
    "collapsed": false
   },
   "source": [
    "#### Main"
   ]
  },
  {
   "cell_type": "code",
   "execution_count": null,
   "id": "7b6ed2064fb35e7f",
   "metadata": {
    "collapsed": false
   },
   "outputs": [],
   "source": [
    "from arcgis.gis import GIS\n",
    "gis = GIS(\"home\")\n",
    "\n",
    "# Adjust important params\n",
    "celantur_process_layer(\n",
    "\n",
    "    # Type: Feature Service\n",
    "    layer_id=\"3374217d28904bf8a538ae9b4ebe93a4\",\n",
    "\n",
    "    params={\n",
    "        \"anonymization_method\": \"blur\",\n",
    "        \"face\": True,\n",
    "        \"license-plate\": True,\n",
    "    }\n",
    "\n",
    ")"
   ]
  }
 ],
 "metadata": {
  "kernelspec": {
   "display_name": "Python 3",
   "language": "python",
   "name": "python3"
  },
  "language_info": {
   "codemirror_mode": {
    "name": "ipython",
    "version": 2
   },
   "file_extension": ".py",
   "mimetype": "text/x-python",
   "name": "python",
   "nbconvert_exporter": "python",
   "pygments_lexer": "ipython2",
   "version": "2.7.6"
  }
 },
 "nbformat": 4,
 "nbformat_minor": 5
}
